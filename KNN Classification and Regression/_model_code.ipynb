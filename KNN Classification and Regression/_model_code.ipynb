{
 "cells": [
  {
   "cell_type": "code",
   "execution_count": 1,
   "metadata": {},
   "outputs": [],
   "source": [
    "import pandas as pd\n",
    "import numpy as np\n",
    "from scipy import stats\n",
    "from scipy.spatial import distance\n",
    "from statistics import mean"
   ]
  },
  {
   "cell_type": "markdown",
   "metadata": {},
   "source": [
    "## helper functions"
   ]
  },
  {
   "cell_type": "code",
   "execution_count": 2,
   "metadata": {},
   "outputs": [],
   "source": [
    "#split the data into 5 different sets and return each set\n",
    "def validation_sets(data, classification):\n",
    "    sets = []\n",
    "    sample_size = len(data)\n",
    "    for index in range(0, 5):\n",
    "        #for classification, make sure each class has equal representation for each set as they do in the full dataset\n",
    "        if classification:\n",
    "            sample_set = data.groupby('target').apply(lambda x: x.sample(frac = 0.2)).reset_index(level=0, drop=True)\n",
    "        #we cant do the above for regression, so just split the data normally \n",
    "        else:\n",
    "            sample_set = data.sample(n=int(sample_size*0.2))\n",
    "        data = data.drop(sample_set.index)\n",
    "        sets.append(sample_set.reset_index().drop(columns= 'index'))\n",
    "    return sets\n",
    "\n",
    "#return the condensed NN training set that represents a new dataset where each value in the old set is added to the new\n",
    "#if it does not equal the label of the minimum distance value of the new dataset\n",
    "def condensed_NN (x_train, y_train, kernel):\n",
    "    new_x_train = []\n",
    "    new_y_train = []\n",
    "    for index in range(0, len(x_train)):\n",
    "        test_sample_x, test_sample_y = [x_train[index]], y_train[index]\n",
    "        #if the new dataset is empty, just add the first values into it\n",
    "        if len(new_x_train)==0:\n",
    "            new_x_train.append(test_sample_x)\n",
    "            new_y_train.append(test_sample_y)\n",
    "        #if the new dataset is not empty, find the closest neighbor and see if the labels are equal\n",
    "        #if not, add it to the new dataset\n",
    "        else:\n",
    "            predict_sample = knn_classifier_predict(1, test_sample_x, new_x_train, new_y_train, kernel)\n",
    "            if predict_sample[0] != test_sample_y:\n",
    "                new_x_train.append(test_sample_x)\n",
    "                new_y_train.append(test_sample_y)\n",
    "    return new_x_train, new_y_train\n",
    "\n",
    "#batch approach\n",
    "def batch_edit_NN (x_train, y_train, kernel):\n",
    "    tagged = []\n",
    "    #runds through each feature and predicts it using the rest of the dataset. if the prediction is incorrect, remove it\n",
    "    for index in range(0, len(x_train)):\n",
    "        test_sample_x, test_sample_y = [x_train[index]], y_train[index]\n",
    "        new_training_x, new_training_y = np.delete(x_train, index, axis=0), np.delete(y_train, index, axis=0)\n",
    "        predict_sample = knn_classifier_predict(5, test_sample_x, new_training_x, new_training_y, kernel)\n",
    "        if predict_sample[0] != test_sample_y:\n",
    "            tagged.append(index)\n",
    "    return np.delete(x_train, tagged, axis=0), np.delete(y_train, tagged, axis=0)\n",
    "\n",
    "#returns the weights for each distance metric using the gaussian kernel function\n",
    "def gaussian_kernel(distance_metrics, x):\n",
    "    return np.exp(-(distance_metrics**2)/(x))\n",
    "\n",
    "#returns the weights for each distance metric by taking the inverse of the distances, if the distance is = 0 then we \n",
    "#label the weight as 1 and make the rest of the distance weights 0\n",
    "def inverse_kernel (distance_metrics):\n",
    "    weights = [1/(np.abs(metric)) if metric!=0 else 1 for metric in distance_metrics ]\n",
    "    if 1 in weights:\n",
    "        return [1 if weight ==1 else 0 for weight in weights ]\n",
    "    else:\n",
    "        return weights\n",
    "\n",
    "#this is the shell for all our model. it takes each set and tests it against the rest of the sets and returns some metrics we need \n",
    "#to evaluate our model\n",
    "def k_fold_cross_validation(k, sets, classification, modifications=None, kernel = None, forest_fires = False):\n",
    "    scores = []\n",
    "    #iterate through each set as the test set and calculate metrics\n",
    "    for index in range(0, len(sets)):\n",
    "        test_set = sets[index]\n",
    "        #concats the rest of the sets for training\n",
    "        training_set = pd.concat([t_set for (set_index, t_set) in enumerate(sets) if set_index!=index])\n",
    "        \n",
    "        y_train = np.array(training_set['target'])\n",
    "        #drop target so its not considered a feature\n",
    "        x_train = training_set.reset_index().drop(columns= ['index','target']).values\n",
    "\n",
    "        y_test = np.array(test_set['target'])\n",
    "        x_test = test_set.reset_index().drop(columns= ['index','target']).values\n",
    "        \n",
    "        #here we either choose to treat the data as classification or regression\n",
    "        if classification:\n",
    "            #if we are doing classification, we can utilize edited nn or condensed nn\n",
    "            if modifications == 'edit':\n",
    "                x_train, y_train = batch_edit_NN(x_train, y_train, kernel)\n",
    "            elif modifications == 'condense':\n",
    "                x_train, y_train = condensed_NN(x_train, y_train, kernel)\n",
    "            #runs the data through our model\n",
    "            y_predict = knn_classifier_predict(k, x_test, x_train, y_train, kernel)\n",
    "            #calculate and append metrics\n",
    "            results = [y_predict[result_index]==actual for result_index, actual in enumerate(y_test)]\n",
    "            scores.append(results.count(True)/len(results))\n",
    "        else:\n",
    "            #runs the data through our regression model\n",
    "            y_predict = knn_regression_predict(k, x_test, x_train, y_train, kernel, forest_fires)\n",
    "            #calculate and append metrics\n",
    "            avg_deviation = mean([(np.abs(y_predict[i]-y_test[i]))/(y_test[i]) for i in range(0, len(y_test))])\n",
    "            mae = (np.abs(y_test - y_predict)).mean()\n",
    "            rsquared = 1- (((y_test-y_predict)**2).sum(axis=0)/((y_test-np.average(y_test, axis=0,))**2).sum(axis=0))\n",
    "            scores.append([mae, rsquared, avg_deviation])\n",
    "    return scores"
   ]
  },
  {
   "cell_type": "markdown",
   "metadata": {},
   "source": [
    "## classifiers"
   ]
  },
  {
   "cell_type": "code",
   "execution_count": 3,
   "metadata": {},
   "outputs": [],
   "source": [
    "#this is our classification model, a kernel can be used if specified\n",
    "def knn_classifier_predict(k, x_test, x_train, y_train, kernel = None):\n",
    "    predictions = []\n",
    "    for sample in x_test:\n",
    "        #computes the distances of each test sample with all the training samples and orders the distances to find the knn\n",
    "        distances = [distance.euclidean(sample, train_sample) for train_sample in x_train]\n",
    "        ordered_distances_indexes = np.argsort(distances)\n",
    "        ordered_distances = np.sort(distances)\n",
    "        top_k_indexes = ordered_distances_indexes[0:k]\n",
    "        #this if statement is used to catch an error that could arise when we use condensed nn\n",
    "        #otherwise, calculate the weighted distances if wer want to use a kernel\n",
    "        if (len(ordered_distances)>k):\n",
    "            k_plus_one_distance = ordered_distances[k]\n",
    "            top_k_distances = ordered_distances[0:k]/k_plus_one_distance\n",
    "        else:\n",
    "            top_k_distances = ordered_distances[0:k]\n",
    "        top_k_labels = [y_train[index] for index in top_k_indexes]\n",
    "        #if we use the inverse kernel, we return the weights and pick the label that has the highest sum of weights\n",
    "        if kernel == 'inverse':\n",
    "            weights = inverse_kernel(top_k_distances )\n",
    "            labels = np.unique(top_k_labels)\n",
    "            scores = []\n",
    "            for label in labels:\n",
    "                indices = [index for index, val in enumerate(top_k_labels) if val == label]\n",
    "                scores.append(sum(weights[index] for index in indices))\n",
    "            predictions.append(labels[scores.index(max(scores))])\n",
    "        #if not just take the most common label\n",
    "        else:\n",
    "            predictions.append(max(set(list(top_k_labels)), key=list(top_k_labels).count))\n",
    "    return predictions\n",
    "\n",
    "def knn_regression_predict(k, x_test, x_train, y_train, kernel = None, forest_fires= False):\n",
    "    predictions = []\n",
    "    for sample in x_test:\n",
    "        #we should log(x+1) each label in the dataset because we have a lot of zero vals, we inverse this at the end of this method\n",
    "        if forest_fires:\n",
    "            y_train = [np.log(y+1) for y in y_train]\n",
    "        #computes the distances of each test sample with all the training samples and orders the distances to find the knn\n",
    "        distances = [distance.euclidean(sample, train_sample) for train_sample in x_train]\n",
    "        ordered_distances_indexes = np.argsort(distances)\n",
    "        ordered_distances = np.sort(distances)\n",
    "        top_k_indexes = ordered_distances_indexes[0:k]\n",
    "        top_k_distances = ordered_distances[0:k]\n",
    "        top_k_labels = [y_train[index] for index in top_k_indexes]\n",
    "        #if we use the gaussian kernel, we compute the weights and calculate y_predict as sum(weight*label)/sum(weight)\n",
    "        if kernel == 'gaussian':\n",
    "            weights = gaussian_kernel(top_k_distances, 2)\n",
    "            numerator = np.sum(np.array(weights).astype(np.float64)*np.array(top_k_labels))\n",
    "            denominator = np.sum(weights)\n",
    "            if forest_fires:\n",
    "                predictions.append(np.exp(numerator/denominator))\n",
    "            else: \n",
    "                predictions.append(numerator/denominator)\n",
    "        #if we use the inverse kernel, we compute the weights and calculate y_predict as sum(weight*label)/sum(weight)\n",
    "        elif kernel == 'inverse':\n",
    "            weights = inverse_kernel(top_k_distances)\n",
    "            numerator = np.sum(np.array(weights).astype(np.float64)*np.array(top_k_labels))\n",
    "            denominator = np.sum(weights)\n",
    "            if forest_fires:\n",
    "                predictions.append(np.exp(numerator/denominator))\n",
    "            else: \n",
    "                predictions.append(numerator/denominator)\n",
    "        #if not we just compute the mean of the labels and use this as out y_predict\n",
    "        else: \n",
    "            if forest_fires:\n",
    "                predictions.append(np.exp(np.mean(top_k_labels)))\n",
    "            else:\n",
    "                predictions.append(np.mean(top_k_labels))\n",
    "    return predictions\n",
    "\n"
   ]
  },
  {
   "cell_type": "markdown",
   "metadata": {},
   "source": [
    "## Ecoli - classification"
   ]
  },
  {
   "cell_type": "code",
   "execution_count": 4,
   "metadata": {},
   "outputs": [],
   "source": [
    "#load the ecoli dataset and drop the sequence column because it is not a predictive value\n",
    "ecoli = pd.read_csv('ecoli.data', delim_whitespace=True, header = None)\n",
    "ecoli.columns = ['sequence', 'mcg', 'gvh', 'lip', 'chg', 'aac', 'alm1', 'alm2', 'target']\n",
    "ecoli = ecoli.drop(columns = ['sequence'])\n",
    "#drop labels that don't have enough samples\n",
    "ecoli = ecoli[ecoli['target'].isin(['cp', 'im', 'pp', 'imU', 'om'])]\n",
    "#split into validation sets\n",
    "sets = validation_sets(ecoli, True)"
   ]
  },
  {
   "cell_type": "markdown",
   "metadata": {},
   "source": [
    "#### Normal KNN"
   ]
  },
  {
   "cell_type": "code",
   "execution_count": 5,
   "metadata": {},
   "outputs": [
    {
     "name": "stdout",
     "output_type": "stream",
     "text": [
      "mean accuracy: 0.8385910603557662\n"
     ]
    }
   ],
   "source": [
    "accuracy = k_fold_cross_validation(4, sets, classification=True, kernel = 'inverse')\n",
    "print (f'mean accuracy: {mean(accuracy)}')"
   ]
  },
  {
   "cell_type": "markdown",
   "metadata": {},
   "source": [
    "#### edited NN"
   ]
  },
  {
   "cell_type": "code",
   "execution_count": 6,
   "metadata": {},
   "outputs": [
    {
     "name": "stdout",
     "output_type": "stream",
     "text": [
      "mean accuracy: 0.8711726399961693\n"
     ]
    }
   ],
   "source": [
    "accuracy = k_fold_cross_validation(4, sets, classification=True, modifications = 'edit', kernel = 'inverse')\n",
    "print (f'mean accuracy: {mean(accuracy)}')"
   ]
  },
  {
   "cell_type": "markdown",
   "metadata": {},
   "source": [
    "#### condensed NN"
   ]
  },
  {
   "cell_type": "code",
   "execution_count": 7,
   "metadata": {},
   "outputs": [
    {
     "name": "stdout",
     "output_type": "stream",
     "text": [
      "mean accuracy: 0.8003696521343581\n"
     ]
    }
   ],
   "source": [
    "accuracy = k_fold_cross_validation(5, sets, classification=True, modifications = 'condense', kernel = 'inverse')\n",
    "print (f'mean accuracy: {mean(accuracy)}')"
   ]
  },
  {
   "cell_type": "markdown",
   "metadata": {},
   "source": [
    "## Image Segmentation"
   ]
  },
  {
   "cell_type": "code",
   "execution_count": 8,
   "metadata": {},
   "outputs": [],
   "source": [
    "segmentation = pd.read_csv('segmentation.data')\n",
    "segmentation = segmentation.reset_index().rename(columns = {'index': 'target'})\n",
    "segmentation = segmentation.drop(columns = 'REGION-PIXEL-COUNT')"
   ]
  },
  {
   "cell_type": "code",
   "execution_count": 9,
   "metadata": {},
   "outputs": [],
   "source": [
    "labels = np.unique(segmentation['target'])\n",
    "segmentation['target'] = [np.where(labels == label)[0][0] for label in segmentation['target']]"
   ]
  },
  {
   "cell_type": "code",
   "execution_count": 10,
   "metadata": {},
   "outputs": [],
   "source": [
    "segmentation_norm = segmentation.drop(columns = 'target')\n",
    "segmentation_norm = (segmentation_norm - segmentation_norm.mean()) / (segmentation_norm.max() - segmentation_norm.min())\n",
    "segmentation_norm = segmentation_norm.join(segmentation['target'])\n"
   ]
  },
  {
   "cell_type": "code",
   "execution_count": 11,
   "metadata": {},
   "outputs": [],
   "source": [
    "sets = validation_sets(segmentation_norm, True)"
   ]
  },
  {
   "cell_type": "markdown",
   "metadata": {},
   "source": [
    "#### Normal KNN"
   ]
  },
  {
   "cell_type": "code",
   "execution_count": 12,
   "metadata": {},
   "outputs": [
    {
     "name": "stdout",
     "output_type": "stream",
     "text": [
      "mean accuracy: 0.9023809523809524\n"
     ]
    }
   ],
   "source": [
    "accuracy = k_fold_cross_validation(4, sets, classification=True, kernel = 'inverse')\n",
    "print (f'mean accuracy: {mean(accuracy)}')"
   ]
  },
  {
   "cell_type": "markdown",
   "metadata": {},
   "source": [
    "#### edited NN"
   ]
  },
  {
   "cell_type": "code",
   "execution_count": 13,
   "metadata": {},
   "outputs": [
    {
     "name": "stdout",
     "output_type": "stream",
     "text": [
      "mean accuracy: 0.8038095238095238\n"
     ]
    }
   ],
   "source": [
    "accuracy = k_fold_cross_validation(7, sets, classification=True, modifications = 'edit', kernel = 'inverse')\n",
    "print (f'mean accuracy: {mean(accuracy)}')"
   ]
  },
  {
   "cell_type": "markdown",
   "metadata": {},
   "source": [
    "#### condensed NN"
   ]
  },
  {
   "cell_type": "code",
   "execution_count": 14,
   "metadata": {},
   "outputs": [
    {
     "name": "stdout",
     "output_type": "stream",
     "text": [
      "mean accuracy: 0.8966666666666667\n"
     ]
    }
   ],
   "source": [
    "accuracy = k_fold_cross_validation(2, sets, classification=True, modifications = 'condensed', kernel = 'inverse')\n",
    "print (f'mean accuracy: {mean(accuracy)}')"
   ]
  },
  {
   "cell_type": "markdown",
   "metadata": {},
   "source": [
    "## Forest Fires"
   ]
  },
  {
   "cell_type": "code",
   "execution_count": 15,
   "metadata": {},
   "outputs": [],
   "source": [
    "forest_fires = pd.read_csv('forestfires.data')\n",
    "forest_fires = forest_fires.rename(columns = {'area': 'target'})\n",
    "forest_fires['target'] = forest_fires['target'].apply(lambda x: np.log(x+1))"
   ]
  },
  {
   "cell_type": "code",
   "execution_count": 16,
   "metadata": {},
   "outputs": [],
   "source": [
    "#change month and days to #s\n",
    "months = ['jan', 'feb', 'mar', 'apr', 'may', 'jun', 'jul', 'aug', 'sep', 'oct', 'nov', 'dec']\n",
    "days = ['mon', 'tue', 'wed', 'thu', 'fri', 'sat', 'sun']\n",
    "forest_fires['day'] = forest_fires['day'].apply(lambda x: days.index(x) if str(x).isalpha() else x)\n",
    "forest_fires['month'] = forest_fires['month'].apply(lambda x: months.index(x))"
   ]
  },
  {
   "cell_type": "code",
   "execution_count": 17,
   "metadata": {},
   "outputs": [],
   "source": [
    "forest_fires_norm = forest_fires.drop(columns = ['target'])\n",
    "forest_fires_norm = (forest_fires_norm - forest_fires_norm.mean()) / (forest_fires_norm.max() - forest_fires_norm.min())\n",
    "forest_fires_norm = forest_fires_norm.join(forest_fires['target'])"
   ]
  },
  {
   "cell_type": "code",
   "execution_count": 18,
   "metadata": {},
   "outputs": [],
   "source": [
    "forest_fires = forest_fires[['target', 'month', 'DMC']]\n",
    "sets = validation_sets(forest_fires, False)"
   ]
  },
  {
   "cell_type": "code",
   "execution_count": 19,
   "metadata": {},
   "outputs": [
    {
     "name": "stderr",
     "output_type": "stream",
     "text": [
      "/opt/anaconda3/lib/python3.7/site-packages/ipykernel_launcher.py:94: RuntimeWarning: divide by zero encountered in double_scalars\n"
     ]
    }
   ],
   "source": [
    "mae_list = []\n",
    "rsquared_list = []\n",
    "avg_deviation_list = []\n",
    "for k in range(1, 10):\n",
    "    results = k_fold_cross_validation(k, sets, classification=False, kernel='gaussian', forest_fires = True)\n",
    "    mae = [metrics[0] for metrics in results]\n",
    "    rsquared = [metrics[1] for metrics in results]\n",
    "    avg_deviation = [metrics[2] for metrics in results]\n",
    "    mae.append(mean(mae))\n",
    "    rsquared.append(mean(rsquared))\n",
    "    avg_deviation.append(mean(avg_deviation))\n",
    "    mae_list.append(mae)\n",
    "    rsquared_list.append(rsquared)\n",
    "    avg_deviation_list.append(avg_deviation)"
   ]
  },
  {
   "cell_type": "code",
   "execution_count": 26,
   "metadata": {},
   "outputs": [
    {
     "data": {
      "text/plain": [
       "<matplotlib.axes._subplots.AxesSubplot at 0x1a2438fd50>"
      ]
     },
     "execution_count": 26,
     "metadata": {},
     "output_type": "execute_result"
    },
    {
     "data": {
      "image/png": "[encoded data removed]",
      "text/plain": [
       "<Figure size 432x288 with 1 Axes>"
      ]
     },
     "metadata": {
      "needs_background": "light"
     },
     "output_type": "display_data"
    }
   ],
   "source": [
    "mae_results_df = pd.DataFrame(mae_list, columns = ['test1','test2','test3','test4','test5', 'mean'])\n",
    "mae_results_df.plot()"
   ]
  },
  {
   "cell_type": "code",
   "execution_count": 21,
   "metadata": {},
   "outputs": [
    {
     "data": {
      "text/plain": [
       "<matplotlib.axes._subplots.AxesSubplot at 0x1a2434fa10>"
      ]
     },
     "execution_count": 21,
     "metadata": {},
     "output_type": "execute_result"
    },
    {
     "data": {
      "image/png": "[encoded data removed]",
      "text/plain": [
       "<Figure size 432x288 with 1 Axes>"
      ]
     },
     "metadata": {
      "needs_background": "light"
     },
     "output_type": "display_data"
    }
   ],
   "source": [
    "rsquared_results_df = pd.DataFrame(rsquared_list, columns = ['test1','test2','test3','test4','test5', 'mean'])\n",
    "rsquared_results_df.plot()"
   ]
  },
  {
   "cell_type": "markdown",
   "metadata": {},
   "source": [
    "## Machines"
   ]
  },
  {
   "cell_type": "code",
   "execution_count": 22,
   "metadata": {},
   "outputs": [],
   "source": [
    "machines = pd.read_csv('machine.data', header=None)\n",
    "machines.columns = ['vendor', 'model', 'myct', 'mmin', 'mmax', 'cach', 'chmin', 'chmax', 'target', 'erp']\n",
    "machines = machines.drop(columns = ['model', 'erp'])\n",
    "#machines = machines[machines['target']<301]\n",
    "#machines= machines.join(pd.get_dummies(machines['vendor'])).drop(columns = 'vendor')"
   ]
  },
  {
   "cell_type": "code",
   "execution_count": 23,
   "metadata": {},
   "outputs": [],
   "source": [
    "machines = machines.join(pd.get_dummies(machines['vendor'])).drop(columns = 'vendor')\n",
    "machines_norm = machines.drop(columns = ['target'])\n",
    "machines_norm = (machines_norm - machines_norm.mean()) / (machines_norm.max() - machines_norm.min())\n",
    "machines_norm = machines_norm.join(machines['target'])"
   ]
  },
  {
   "cell_type": "code",
   "execution_count": 24,
   "metadata": {},
   "outputs": [],
   "source": [
    "sets = validation_sets(machines_norm, classification = False)"
   ]
  },
  {
   "cell_type": "code",
   "execution_count": 25,
   "metadata": {
    "scrolled": true
   },
   "outputs": [
    {
     "name": "stdout",
     "output_type": "stream",
     "text": [
      "average % distance from actual: 0.41983921211571956\n",
      "r-squared: 0.7661805376706984\n"
     ]
    }
   ],
   "source": [
    "results = k_fold_cross_validation(2, sets, classification=False)#, kernel = 'gaussian')\n",
    "rsquared = [metrics[1] for metrics in results]\n",
    "avg_deviation = [metrics[2] for metrics in results]\n",
    "print(f'average % distance from actual: {mean(avg_deviation)}')\n",
    "print(f'r-squared: {mean(rsquared)}')"
   ]
  },
  {
   "cell_type": "code",
   "execution_count": null,
   "metadata": {},
   "outputs": [],
   "source": []
  }
 ],
 "metadata": {
  "kernelspec": {
   "display_name": "Python 3",
   "language": "python",
   "name": "python3"
  },
  "language_info": {
   "codemirror_mode": {
    "name": "ipython",
    "version": 3
   },
   "file_extension": ".py",
   "mimetype": "text/x-python",
   "name": "python",
   "nbconvert_exporter": "python",
   "pygments_lexer": "ipython3",
   "version": "3.7.4"
  },
  "latex_envs": {
   "LaTeX_envs_menu_present": true,
   "autoclose": false,
   "autocomplete": true,
   "bibliofile": "biblio.bib",
   "cite_by": "apalike",
   "current_citInitial": 1,
   "eqLabelWithNumbers": true,
   "eqNumInitial": 1,
   "hotkeys": {
    "equation": "Ctrl-E",
    "itemize": "Ctrl-I"
   },
   "labels_anchors": false,
   "latex_user_defs": false,
   "report_style_numbering": false,
   "user_envs_cfg": false
  }
 },
 "nbformat": 4,
 "nbformat_minor": 2
}
